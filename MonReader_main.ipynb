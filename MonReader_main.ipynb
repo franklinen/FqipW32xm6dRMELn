{
 "cells": [
  {
   "cell_type": "code",
   "execution_count": 1,
   "id": "909fe66c-82a9-4a46-818e-587653e57401",
   "metadata": {},
   "outputs": [
    {
     "name": "stdout",
     "output_type": "stream",
     "text": [
      "Requirement already satisfied: tensorflow in c:\\users\\tooman\\anaconda3\\lib\\site-packages (2.10.1)\n",
      "Requirement already satisfied: absl-py>=1.0.0 in c:\\users\\tooman\\anaconda3\\lib\\site-packages (from tensorflow) (1.4.0)\n",
      "Requirement already satisfied: astunparse>=1.6.0 in c:\\users\\tooman\\anaconda3\\lib\\site-packages (from tensorflow) (1.6.3)\n",
      "Requirement already satisfied: flatbuffers>=2.0 in c:\\users\\tooman\\anaconda3\\lib\\site-packages (from tensorflow) (23.5.26)\n",
      "Requirement already satisfied: gast<=0.4.0,>=0.2.1 in c:\\users\\tooman\\anaconda3\\lib\\site-packages (from tensorflow) (0.4.0)\n",
      "Requirement already satisfied: google-pasta>=0.1.1 in c:\\users\\tooman\\anaconda3\\lib\\site-packages (from tensorflow) (0.2.0)\n",
      "Requirement already satisfied: h5py>=2.9.0 in c:\\users\\tooman\\anaconda3\\lib\\site-packages (from tensorflow) (3.11.0)\n",
      "Requirement already satisfied: keras-preprocessing>=1.1.1 in c:\\users\\tooman\\anaconda3\\lib\\site-packages (from tensorflow) (1.1.2)\n",
      "Requirement already satisfied: libclang>=13.0.0 in c:\\users\\tooman\\anaconda3\\lib\\site-packages (from tensorflow) (16.0.6)\n",
      "Requirement already satisfied: numpy>=1.20 in c:\\users\\tooman\\anaconda3\\lib\\site-packages (from tensorflow) (1.26.4)\n",
      "Requirement already satisfied: opt-einsum>=2.3.2 in c:\\users\\tooman\\anaconda3\\lib\\site-packages (from tensorflow) (3.3.0)\n",
      "Requirement already satisfied: packaging in c:\\users\\tooman\\anaconda3\\lib\\site-packages (from tensorflow) (23.2)\n",
      "Requirement already satisfied: protobuf<3.20,>=3.9.2 in c:\\users\\tooman\\anaconda3\\lib\\site-packages (from tensorflow) (3.19.6)\n",
      "Requirement already satisfied: setuptools in c:\\users\\tooman\\anaconda3\\lib\\site-packages (from tensorflow) (69.5.1)\n",
      "Requirement already satisfied: six>=1.12.0 in c:\\users\\tooman\\anaconda3\\lib\\site-packages (from tensorflow) (1.16.0)\n",
      "Requirement already satisfied: termcolor>=1.1.0 in c:\\users\\tooman\\anaconda3\\lib\\site-packages (from tensorflow) (2.3.0)\n",
      "Requirement already satisfied: typing-extensions>=3.6.6 in c:\\users\\tooman\\anaconda3\\lib\\site-packages (from tensorflow) (4.11.0)\n",
      "Requirement already satisfied: wrapt>=1.11.0 in c:\\users\\tooman\\anaconda3\\lib\\site-packages (from tensorflow) (1.14.1)\n",
      "Requirement already satisfied: tensorflow-io-gcs-filesystem>=0.23.1 in c:\\users\\tooman\\anaconda3\\lib\\site-packages (from tensorflow) (0.31.0)\n",
      "Requirement already satisfied: grpcio<2.0,>=1.24.3 in c:\\users\\tooman\\anaconda3\\lib\\site-packages (from tensorflow) (1.57.0)\n",
      "Requirement already satisfied: tensorboard<2.11,>=2.10 in c:\\users\\tooman\\anaconda3\\lib\\site-packages (from tensorflow) (2.10.1)\n",
      "Requirement already satisfied: tensorflow-estimator<2.11,>=2.10.0 in c:\\users\\tooman\\anaconda3\\lib\\site-packages (from tensorflow) (2.10.0)\n",
      "Requirement already satisfied: keras<2.11,>=2.10.0 in c:\\users\\tooman\\anaconda3\\lib\\site-packages (from tensorflow) (2.10.0)\n",
      "Requirement already satisfied: wheel<1.0,>=0.23.0 in c:\\users\\tooman\\anaconda3\\lib\\site-packages (from astunparse>=1.6.0->tensorflow) (0.43.0)\n",
      "Requirement already satisfied: google-auth<3,>=1.6.3 in c:\\users\\tooman\\anaconda3\\lib\\site-packages (from tensorboard<2.11,>=2.10->tensorflow) (2.22.0)\n",
      "Requirement already satisfied: google-auth-oauthlib<0.5,>=0.4.1 in c:\\users\\tooman\\anaconda3\\lib\\site-packages (from tensorboard<2.11,>=2.10->tensorflow) (0.4.6)\n",
      "Requirement already satisfied: markdown>=2.6.8 in c:\\users\\tooman\\anaconda3\\lib\\site-packages (from tensorboard<2.11,>=2.10->tensorflow) (3.4.1)\n",
      "Requirement already satisfied: requests<3,>=2.21.0 in c:\\users\\tooman\\anaconda3\\lib\\site-packages (from tensorboard<2.11,>=2.10->tensorflow) (2.32.2)\n",
      "Requirement already satisfied: tensorboard-data-server<0.7.0,>=0.6.0 in c:\\users\\tooman\\anaconda3\\lib\\site-packages (from tensorboard<2.11,>=2.10->tensorflow) (0.6.1)\n",
      "Requirement already satisfied: tensorboard-plugin-wit>=1.6.0 in c:\\users\\tooman\\anaconda3\\lib\\site-packages (from tensorboard<2.11,>=2.10->tensorflow) (1.8.1)\n",
      "Requirement already satisfied: werkzeug>=1.0.1 in c:\\users\\tooman\\anaconda3\\lib\\site-packages (from tensorboard<2.11,>=2.10->tensorflow) (3.0.3)\n",
      "Requirement already satisfied: cachetools<6.0,>=2.0.0 in c:\\users\\tooman\\anaconda3\\lib\\site-packages (from google-auth<3,>=1.6.3->tensorboard<2.11,>=2.10->tensorflow) (5.3.1)\n",
      "Requirement already satisfied: pyasn1-modules>=0.2.1 in c:\\users\\tooman\\anaconda3\\lib\\site-packages (from google-auth<3,>=1.6.3->tensorboard<2.11,>=2.10->tensorflow) (0.2.8)\n",
      "Requirement already satisfied: rsa<5,>=3.1.4 in c:\\users\\tooman\\anaconda3\\lib\\site-packages (from google-auth<3,>=1.6.3->tensorboard<2.11,>=2.10->tensorflow) (4.9)\n",
      "Requirement already satisfied: urllib3<2.0 in c:\\users\\tooman\\anaconda3\\lib\\site-packages (from google-auth<3,>=1.6.3->tensorboard<2.11,>=2.10->tensorflow) (1.26.19)\n",
      "Requirement already satisfied: requests-oauthlib>=0.7.0 in c:\\users\\tooman\\anaconda3\\lib\\site-packages (from google-auth-oauthlib<0.5,>=0.4.1->tensorboard<2.11,>=2.10->tensorflow) (1.3.1)\n",
      "Requirement already satisfied: importlib-metadata>=4.4 in c:\\users\\tooman\\anaconda3\\lib\\site-packages (from markdown>=2.6.8->tensorboard<2.11,>=2.10->tensorflow) (7.0.1)\n",
      "Requirement already satisfied: charset-normalizer<4,>=2 in c:\\users\\tooman\\anaconda3\\lib\\site-packages (from requests<3,>=2.21.0->tensorboard<2.11,>=2.10->tensorflow) (2.0.4)\n",
      "Requirement already satisfied: idna<4,>=2.5 in c:\\users\\tooman\\anaconda3\\lib\\site-packages (from requests<3,>=2.21.0->tensorboard<2.11,>=2.10->tensorflow) (3.7)\n",
      "Requirement already satisfied: certifi>=2017.4.17 in c:\\users\\tooman\\anaconda3\\lib\\site-packages (from requests<3,>=2.21.0->tensorboard<2.11,>=2.10->tensorflow) (2024.6.2)\n",
      "Requirement already satisfied: MarkupSafe>=2.1.1 in c:\\users\\tooman\\anaconda3\\lib\\site-packages (from werkzeug>=1.0.1->tensorboard<2.11,>=2.10->tensorflow) (2.1.3)\n",
      "Requirement already satisfied: zipp>=0.5 in c:\\users\\tooman\\anaconda3\\lib\\site-packages (from importlib-metadata>=4.4->markdown>=2.6.8->tensorboard<2.11,>=2.10->tensorflow) (3.17.0)\n",
      "Requirement already satisfied: pyasn1<0.5.0,>=0.4.6 in c:\\users\\tooman\\anaconda3\\lib\\site-packages (from pyasn1-modules>=0.2.1->google-auth<3,>=1.6.3->tensorboard<2.11,>=2.10->tensorflow) (0.4.8)\n",
      "Requirement already satisfied: oauthlib>=3.0.0 in c:\\users\\tooman\\anaconda3\\lib\\site-packages (from requests-oauthlib>=0.7.0->google-auth-oauthlib<0.5,>=0.4.1->tensorboard<2.11,>=2.10->tensorflow) (3.2.2)\n",
      "Note: you may need to restart the kernel to use updated packages.\n"
     ]
    }
   ],
   "source": [
    "pip install tensorflow"
   ]
  },
  {
   "cell_type": "code",
   "execution_count": 2,
   "id": "a1490416-cc17-4d05-99b5-7f9e944960e2",
   "metadata": {},
   "outputs": [],
   "source": [
    "import os\n",
    "import cv2\n",
    "import random\n",
    "import numpy as np\n",
    "import pandas as pd\n",
    "import seaborn as sns\n",
    "from tqdm import tqdm\n",
    "import matplotlib.pyplot as plt\n",
    "from sklearn.metrics import confusion_matrix\n",
    "from sklearn.model_selection import train_test_split\n",
    "from sklearn.metrics import classification_report, confusion_matrix\n",
    "from sklearn.metrics import f1_score\n",
    "\n",
    "import tensorflow as tf\n",
    "from tensorflow.keras.callbacks import EarlyStopping\n",
    "from tensorflow.keras import losses, optimizers, regularizers\n",
    "from tensorflow.keras.models import Sequential\n",
    "from tensorflow.keras.layers import Flatten, Dense, Activation, MaxPooling2D, Conv2D, InputLayer, ReLU, Dropout\n",
    "from tensorflow.keras.preprocessing.image import ImageDataGenerator\n",
    "from tensorflow.keras import layers, models\n",
    "    \n",
    "import warnings\n",
    "warnings.filterwarnings('ignore')"
   ]
  },
  {
   "cell_type": "code",
   "execution_count": 3,
   "id": "814482ef-5b84-4b32-bcac-aa282d329f6c",
   "metadata": {},
   "outputs": [],
   "source": [
    "#Set a seed value\n",
    "seed_value= 12321 \n",
    "\n",
    "# 1. Set `PYTHONHASHSEED` environment variable at a fixed value\n",
    "os.environ['PYTHONHASHSEED']=str(seed_value)\n",
    "\n",
    "# 2. Set `python` built-in pseudo-random generator at a fixed value\n",
    "random.seed(seed_value)\n",
    "\n",
    "# 3. Set `numpy` pseudo-random generator at a fixed value\n",
    "np.random.seed(seed_value)\n",
    "\n",
    "# 4. Set `tensorflow` pseudo-random generator at a fixed value\n",
    "tf.random.set_seed(seed_value)"
   ]
  },
  {
   "cell_type": "code",
   "execution_count": 4,
   "id": "2ff5194a-f23d-41c0-8a18-e4d7468a7d6b",
   "metadata": {},
   "outputs": [],
   "source": [
    "def read_images(folder):\n",
    "    images = []\n",
    "    for filename in tqdm(os.listdir(folder)):\n",
    "        img = cv2.imread(os.path.join(folder,filename))\n",
    "        img = cv2.cvtColor(img, cv2.COLOR_BGR2RGB) ##convert images from BGR to RGB\n",
    "        if img is not None:\n",
    "            img = cv2.resize(img, dsize = (70,140), interpolation=cv2.INTER_CUBIC)\n",
    "            y,h,x,w = 0,100,0,70\n",
    "            img = img[y:y+h, x:x+w]\n",
    "            img = img/255\n",
    "            images.append(img)\n",
    "\n",
    "    return images"
   ]
  },
  {
   "cell_type": "code",
   "execution_count": 5,
   "id": "d46a2c0c-fd95-454b-9746-fcd0cc0bc0f2",
   "metadata": {},
   "outputs": [
    {
     "ename": "FileNotFoundError",
     "evalue": "[WinError 3] The system cannot find the path specified: '../images/training/0'",
     "output_type": "error",
     "traceback": [
      "\u001b[1;31m---------------------------------------------------------------------------\u001b[0m",
      "\u001b[1;31mFileNotFoundError\u001b[0m                         Traceback (most recent call last)",
      "Cell \u001b[1;32mIn[5], line 1\u001b[0m\n\u001b[1;32m----> 1\u001b[0m train_notflip \u001b[38;5;241m=\u001b[39m \u001b[43mread_images\u001b[49m\u001b[43m(\u001b[49m\u001b[38;5;124;43m\"\u001b[39;49m\u001b[38;5;124;43m../images/training/0\u001b[39;49m\u001b[38;5;124;43m\"\u001b[39;49m\u001b[43m)\u001b[49m\n\u001b[0;32m      2\u001b[0m train_flip \u001b[38;5;241m=\u001b[39m read_images(\u001b[38;5;124m\"\u001b[39m\u001b[38;5;124m../images/training/1\u001b[39m\u001b[38;5;124m\"\u001b[39m)\n\u001b[0;32m      4\u001b[0m X_noflip \u001b[38;5;241m=\u001b[39m np\u001b[38;5;241m.\u001b[39marray(train_notflip)\n",
      "Cell \u001b[1;32mIn[4], line 3\u001b[0m, in \u001b[0;36mread_images\u001b[1;34m(folder)\u001b[0m\n\u001b[0;32m      1\u001b[0m \u001b[38;5;28;01mdef\u001b[39;00m \u001b[38;5;21mread_images\u001b[39m(folder):\n\u001b[0;32m      2\u001b[0m     images \u001b[38;5;241m=\u001b[39m []\n\u001b[1;32m----> 3\u001b[0m     \u001b[38;5;28;01mfor\u001b[39;00m filename \u001b[38;5;129;01min\u001b[39;00m tqdm(\u001b[43mos\u001b[49m\u001b[38;5;241;43m.\u001b[39;49m\u001b[43mlistdir\u001b[49m\u001b[43m(\u001b[49m\u001b[43mfolder\u001b[49m\u001b[43m)\u001b[49m):\n\u001b[0;32m      4\u001b[0m         img \u001b[38;5;241m=\u001b[39m cv2\u001b[38;5;241m.\u001b[39mimread(os\u001b[38;5;241m.\u001b[39mpath\u001b[38;5;241m.\u001b[39mjoin(folder,filename))\n\u001b[0;32m      5\u001b[0m         img \u001b[38;5;241m=\u001b[39m cv2\u001b[38;5;241m.\u001b[39mcvtColor(img, cv2\u001b[38;5;241m.\u001b[39mCOLOR_BGR2RGB) \u001b[38;5;66;03m##convert images from BGR to RGB\u001b[39;00m\n",
      "\u001b[1;31mFileNotFoundError\u001b[0m: [WinError 3] The system cannot find the path specified: '../images/training/0'"
     ]
    }
   ],
   "source": [
    "train_notflip = read_images(\"../images/training/0\")\n",
    "train_flip = read_images(\"../images/training/1\")\n",
    "\n",
    "X_noflip = np.array(train_notflip)\n",
    "X_flip = np.array(train_flip)\n",
    "\n",
    "y_noflip = np.zeros(X_noflip.shape[0])\n",
    "y_flip = np.ones(X_flip.shape[0])\n",
    "\n",
    "X = np.concatenate((X_noflip,X_flip ))\n",
    "y = np.concatenate((y_noflip, y_flip))\n",
    "\n",
    "X.shape, y.shape"
   ]
  },
  {
   "cell_type": "code",
   "execution_count": null,
   "id": "cc573efa-bde5-4baa-b033-b6a8e7d75689",
   "metadata": {},
   "outputs": [],
   "source": [
    "test_notflip = read_images(\"../images/testing/0\")\n",
    "test_flip = read_images(\"../images/testing/1\")\n",
    "\n",
    "X_test_noflip = np.array(test_notflip)\n",
    "X_test_flip = np.array(test_flip)\n",
    "y_test_noflip = np.zeros(X_test_noflip.shape[0])\n",
    "y_test_flip = np.ones(X_test_flip.shape[0])\n",
    "\n",
    "\n",
    "X_test = np.concatenate((X_test_noflip,X_test_flip ))\n",
    "y_test = np.concatenate((y_test_noflip, y_test_flip))\n",
    "X_test.shape, y_test.shape"
   ]
  },
  {
   "cell_type": "code",
   "execution_count": null,
   "id": "a3c7282a-c116-497c-8bf8-37e9e407ebd7",
   "metadata": {},
   "outputs": [],
   "source": [
    "X_train, X_val, y_train, y_val = train_test_split(X, y , test_size = 0.2, shuffle=True)\n",
    "X_train.shape, X_val.shape, y_train.shape, y_val.shape"
   ]
  },
  {
   "cell_type": "code",
   "execution_count": null,
   "id": "d808ad58-39b9-44c4-bc5d-3af349217c46",
   "metadata": {},
   "outputs": [],
   "source": [
    "# visualizing the image\n",
    "%matplotlib inline\n",
    "import matplotlib.pyplot as plt\n",
    "plt.figure(figsize=(10, 10))\n",
    "plt.subplot(1,1,1)\n",
    "plt.imshow(X_train[1], cmap=\"gray\")\n",
    "plt.axis('off')\n",
    "plt.show()"
   ]
  },
  {
   "cell_type": "code",
   "execution_count": null,
   "id": "d7575a85-189b-49a4-af71-03d45b726a9f",
   "metadata": {},
   "outputs": [],
   "source": [
    "plt.figure(figsize=(10, 10))\n",
    "for i in range(6):\n",
    "    ax = plt.subplot(3, 3, i + 1)\n",
    "    plt.imshow(X[i])\n",
    "    plt.title(y[i])\n",
    "    plt.axis(\"off\")"
   ]
  },
  {
   "cell_type": "code",
   "execution_count": null,
   "id": "4ef3a4c0-a0b2-4d71-94dc-af72e2a37319",
   "metadata": {},
   "outputs": [],
   "source": [
    "plt.figure(figsize=(10, 10))\n",
    "for i in range(-6, 0):\n",
    "    ax = plt.subplot(3, 3, 0 - i)\n",
    "    plt.imshow(X[i])\n",
    "    plt.title(y[i])\n",
    "    plt.axis(\"off\")"
   ]
  },
  {
   "cell_type": "code",
   "execution_count": null,
   "id": "8f60fb9a-8d76-413b-a1a7-c9181d90b169",
   "metadata": {},
   "outputs": [],
   "source": [
    "model = Sequential()\n",
    "model.add(Conv2D(32, (2, 2), activation = ReLU(), padding = 'same', input_shape=(100, 70,3)))\n",
    "model.add(MaxPooling2D((2, 2)))\n",
    "\n",
    "model.add(Flatten())\n",
    "model.add(Dense(64, activation=ReLU()))\n",
    "model.add(Dense(1, activation='sigmoid'))\n",
    "adam = optimizers.Adam(learning_rate=0.001)\n",
    "\n",
    "model.compile(loss=losses.binary_crossentropy, optimizer=adam, metrics=['accuracy'])"
   ]
  },
  {
   "cell_type": "code",
   "execution_count": null,
   "id": "e5186c19-63c4-4faf-955f-2c5fcc9f30d3",
   "metadata": {},
   "outputs": [],
   "source": [
    "model.summary()"
   ]
  },
  {
   "cell_type": "code",
   "execution_count": null,
   "id": "3e68042a-5ac3-4805-825c-c6ddc9cf919a",
   "metadata": {},
   "outputs": [],
   "source": [
    "history_model = model.fit(X_train, y_train, validation_data=(X_val, y_val), shuffle=True, epochs=12, batch_size=64, verbose=1)"
   ]
  },
  {
   "cell_type": "code",
   "execution_count": null,
   "id": "414369eb-5d1f-4720-813f-dff1d5dac725",
   "metadata": {},
   "outputs": [],
   "source": [
    "# plotting the accuracies\n",
    "\n",
    "dict_hist = history_model.history\n",
    "list_ep = [i for i in range(1,13)]\n",
    "\n",
    "plt.figure(figsize = (8,8))\n",
    "plt.plot(list_ep,dict_hist['accuracy'],ls = '--', label = 'accuracy')\n",
    "plt.plot(list_ep,dict_hist['val_accuracy'\n",
    "                          ],ls = '--', label = 'val_accuracy')\n",
    "plt.ylabel('Accuracy')\n",
    "plt.xlabel('Epochs')\n",
    "plt.legend()\n",
    "plt.show()"
   ]
  },
  {
   "cell_type": "code",
   "execution_count": null,
   "id": "57e8d3bb-ca05-43c7-b7c5-14dd35f60ae5",
   "metadata": {},
   "outputs": [],
   "source": [
    "test_pred = model.predict(X_test, verbose=1)\n",
    "\n",
    "\n",
    "# Choose a threshold of 0.5\n",
    "threshold = 0.5\n",
    "\n",
    "# Convert probabilities to predicted labels\n",
    "test_pred_labels = np.where(test_pred >= threshold, 1, 0)\n",
    "#test_pred_labels1\""
   ]
  },
  {
   "cell_type": "code",
   "execution_count": null,
   "id": "b6dda3a7-6e17-4bcf-824f-c107f266c346",
   "metadata": {},
   "outputs": [],
   "source": [
    "#Printing the classification report\n",
    "print(classification_report(y_test, test_pred_labels))\n",
    "\n",
    "#Plotting the heatmap using confusion matrix\n",
    "cm = confusion_matrix(y_test, test_pred_labels)\n",
    "plt.figure(figsize=(8,5))\n",
    "sns.heatmap(cm, annot=True,  fmt='.0f')\n",
    "plt.ylabel('Actual')\n",
    "plt.xlabel('Predicted')\n",
    "plt.show()"
   ]
  },
  {
   "cell_type": "code",
   "execution_count": null,
   "id": "3f748e06-a3df-49f1-b72b-97cd5ec6d5b5",
   "metadata": {},
   "outputs": [],
   "source": [
    "model.save(\"../models/ggg.h5\")"
   ]
  },
  {
   "cell_type": "code",
   "execution_count": null,
   "id": "dc8e80f0-493b-4be9-9b2a-229ac667005e",
   "metadata": {},
   "outputs": [],
   "source": [
    "## 3 files read process, train inference, then we need file dor pre trained model\\n\",\n",
    "\n",
    "import cv2\n",
    "import os\n",
    "from tqdm import tqdm\n",
    "\n",
    "class ImageProcessor:\n",
    "    def __init__(self, size=(70, 140)):\n",
    "        self.size = size\n",
    "        self.crop_coords = (0, 100, 0, 70)\n",
    "\n",
    "    def process(self, folder):\n",
    "        images = []\n",
    "        for filename in tqdm(os.listdir(folder)):\n",
    "            img = cv2.imread(os.path.join(folder,filename))\n",
    "            img = cv2.cvtColor(img, cv2.COLOR_BGR2RGB) ##convert images from BGR to RGB\n",
    "            if img is not None:\n",
    "                img = cv2.resize(img, dsize=self.size, interpolation=cv2.INTER_CUBIC)\n",
    "                y, h, x, w = self.crop_coords\n",
    "                img = img[y:y+h, x:x+w]\n",
    "                img = img/255\n",
    "                images.append(img)\n",
    "\n",
    "\n",
    "\n",
    "        return images"
   ]
  },
  {
   "cell_type": "code",
   "execution_count": null,
   "id": "830aeb1e-6223-4ddc-b7b6-918b1512c812",
   "metadata": {},
   "outputs": [],
   "source": [
    "## Train the model\n",
    "\n",
    "from tensorflow.keras.models import Sequential\n",
    "from tensorflow.keras.layers import Conv2D, MaxPooling2D, Flatten, Dense, ReLU\n",
    "from tensorflow.keras import losses, optimizers\n",
    "import numpy as np\n",
    "\n",
    "class CNNModel:\n",
    "    def __init__(self, input_shape=(100, 70, 3)):\n",
    "        self.model = Sequential()\n",
    "        self.model.add(Conv2D(32, (2, 2), activation=ReLU(), padding='same', input_shape=input_shape))\n",
    "        self.model.add(MaxPooling2D((2, 2)))\n",
    "        self.model.add(Flatten())\n",
    "        self.model.add(Dense(64, activation=ReLU()))\n",
    "        self.model.add(Dense(1, activation='sigmoid'))\n",
    "        adam = optimizers.Adam(learning_rate=0.001)\n",
    "        self.model.compile(loss=losses.binary_crossentropy, optimizer=adam, metrics=['accuracy'])\n",
    "\n",
    "    def train(self, X_train, y_train, X_val, y_val, epochs=12, batch_size=64, verbose=1):\n",
    "        self.history = self.model.fit(X_train, y_train, validation_data=(X_val, y_val), shuffle=True, epochs=epochs, batch_size=batch_size, verbose=verbose)\n",
    "\n",
    "    def predict(self, X):\n",
    "        return self.model.predict(X) "
   ]
  },
  {
   "cell_type": "code",
   "execution_count": null,
   "id": "f006e1d0-a0ed-47e1-9a73-7ddabd6995eb",
   "metadata": {},
   "outputs": [],
   "source": [
    "processor = ImageProcessor()\n",
    "\n",
    "X_noflip =np.array(processor.process('../images/training/0'))\n",
    "X_flip = np.array(processor.process('../images/training/1'))\n",
    "\n",
    "y_noflip = np.zeros(X_noflip.shape[0])\n",
    "y_flip = np.ones(X_flip.shape[0])\n",
    "\n",
    "X = np.concatenate((X_noflip,X_flip ))\n",
    "y = np.concatenate((y_noflip, y_flip))\n",
    "\n",
    "X.shape, y.shape"
   ]
  },
  {
   "cell_type": "code",
   "execution_count": null,
   "id": "7aafeca9-530c-4a48-bb6f-cfaf046cd170",
   "metadata": {},
   "outputs": [],
   "source": [
    "X_test_noflip = np.array(processor.process('../images/testing/0'))\n",
    "X_test_flip = np.array(processor.process('../images/testing/1'))\n",
    "\n",
    "y_test_noflip = np.zeros(X_test_noflip.shape[0])\n",
    "y_test_flip = np.ones(X_test_flip.shape[0])\n",
    "\n",
    "\n",
    "X_test = np.concatenate((X_test_noflip,X_test_flip ))\n",
    "y_test = np.concatenate((y_test_noflip, y_test_flip))\n",
    "X_test.shape, y_test.shape"
   ]
  },
  {
   "cell_type": "code",
   "execution_count": null,
   "id": "bd0d4dc9-9470-4c49-86cd-c960a22257dc",
   "metadata": {},
   "outputs": [],
   "source": [
    "X.shape, y.shape"
   ]
  },
  {
   "cell_type": "code",
   "execution_count": null,
   "id": "528a15ad-e7c1-4e13-a86e-8228862b2f3d",
   "metadata": {},
   "outputs": [],
   "source": [
    "X_train, X_val, y_train, y_val = train_test_split(X, y , test_size = 0.2, shuffle=True)"
   ]
  },
  {
   "cell_type": "code",
   "execution_count": null,
   "id": "17934e91-4e10-4022-96d7-1ee27720e868",
   "metadata": {},
   "outputs": [],
   "source": [
    "cnn = CNNModel()\n",
    "cnn.train(X_train, y_train, X_val, y_val)"
   ]
  },
  {
   "cell_type": "code",
   "execution_count": null,
   "id": "e2aec408-4a64-4e52-a06e-94ce7582a22f",
   "metadata": {},
   "outputs": [],
   "source": [
    "test_pred = cnn.predict(X_test)\n",
    "\n",
    "\n",
    "# Choose a threshold of 0.5\n",
    "threshold = 0.5\n",
    "\n",
    "# Convert probabilities to predicted labels\n",
    "test_pred_labels = np.where(test_pred >= threshold, 1, 0)\n",
    "#test_pred_labels1"
   ]
  },
  {
   "cell_type": "code",
   "execution_count": null,
   "id": "9ee15a77-0657-4228-ba31-9807a43b64fd",
   "metadata": {},
   "outputs": [],
   "source": [
    "#Printing the classification report\n",
    "print(classification_report(y_test, test_pred_labels))\n",
    "\n",
    "#Plotting the heatmap using confusion matrix\n",
    "cm = confusion_matrix(y_test, test_pred_labels)\n",
    "plt.figure(figsize=(8,5))\n",
    "sns.heatmap(cm, annot=True,  fmt='.0f')\n",
    "plt.ylabel('Actual')\n",
    "plt.xlabel('Predicted')\n",
    "plt.show()"
   ]
  },
  {
   "cell_type": "code",
   "execution_count": null,
   "id": "506e8bf7-2d59-4afa-b1e1-df75f06eb17a",
   "metadata": {},
   "outputs": [],
   "source": [
    "tf.keras.backend.clear_session()"
   ]
  },
  {
   "cell_type": "code",
   "execution_count": null,
   "id": "fd5a8b5a-e387-4812-9325-a4c9f61f62f5",
   "metadata": {},
   "outputs": [],
   "source": [
    "print(classification_report(y_test, test_pred_labels))"
   ]
  },
  {
   "cell_type": "code",
   "execution_count": null,
   "id": "fba2a485-a1da-42fb-8fdb-0557a86f3971",
   "metadata": {},
   "outputs": [],
   "source": []
  },
  {
   "cell_type": "code",
   "execution_count": null,
   "id": "b04d7d0c-89b9-4720-9c71-5b8980a65b59",
   "metadata": {},
   "outputs": [],
   "source": []
  }
 ],
 "metadata": {
  "kernelspec": {
   "display_name": "Python 3 (ipykernel)",
   "language": "python",
   "name": "python3"
  },
  "language_info": {
   "codemirror_mode": {
    "name": "ipython",
    "version": 3
   },
   "file_extension": ".py",
   "mimetype": "text/x-python",
   "name": "python",
   "nbconvert_exporter": "python",
   "pygments_lexer": "ipython3",
   "version": "3.9.19"
  }
 },
 "nbformat": 4,
 "nbformat_minor": 5
}
